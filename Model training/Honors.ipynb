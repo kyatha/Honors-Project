{
 "cells": [
  {
   "cell_type": "markdown",
   "metadata": {},
   "source": [
    "# data upload"
   ]
  },
  {
   "cell_type": "code",
   "execution_count": null,
   "metadata": {},
   "outputs": [],
   "source": [
    "#CM - Coffee Machine\n",
    "#EK - Electric Kettle\n",
    "#F - Fridge\n",
    "#CM_EK - Coffee Machine and Electric Kettle\n",
    "#CM_F - Coffee Machine and Fridge\n",
    "#CM_EK_F - Coffee Machine, Electric Kettle and Fridge\n",
    "#EK_F - Electric Kettle and Fridge\n",
    "#None -No appliance"
   ]
  },
  {
   "cell_type": "code",
   "execution_count": null,
   "metadata": {},
   "outputs": [],
   "source": [
    "import pandas as pd\n",
    "import matplotlib.pyplot as plt"
   ]
  },
  {
   "cell_type": "code",
   "execution_count": null,
   "metadata": {},
   "outputs": [],
   "source": [
    "df_ek = pd.read_csv('Data\\EK.csv')\n",
    "df_ek_f = pd.read_csv('Data\\EK_F.csv')\n",
    "df_ek_cm = pd.read_csv('Data\\CM_EK.csv')\n",
    "df_ek_cm_f = pd.read_csv('Data\\CM_EK_F.csv')\n",
    "df_cm = pd.read_csv('Data\\CM.csv')\n",
    "df_cm_f = pd.read_csv('Data\\CM_F.csv')\n",
    "df_f = pd.read_csv('Data\\F.csv')\n",
    "df_none = pd.read_csv(r'Data\\None.csv')"
   ]
  },
  {
   "cell_type": "markdown",
   "metadata": {},
   "source": [
    "# Raw Data graphs"
   ]
  },
  {
   "cell_type": "code",
   "execution_count": null,
   "metadata": {},
   "outputs": [],
   "source": [
    "num=0\n",
    "for column in df_ek.drop(['Label','Timer'], axis=1):\n",
    "    num+=1\n",
    "    plt.plot(df_ek['Timer'], df_ek[column], label=column)\n",
    "    plt.title(\"Electric Kettle\", fontsize=16, fontweight='bold')\n",
    "    plt.xlabel(\"Time (s)\")\n",
    "    plt.ylabel(\"Current (A)\")\n",
    "    "
   ]
  },
  {
   "cell_type": "code",
   "execution_count": null,
   "metadata": {},
   "outputs": [],
   "source": [
    "num=0\n",
    "for column in df_ek_f.drop(['Label','Timer'], axis=1):\n",
    "    num+=1\n",
    "    plt.plot(df_ek_f['Timer'], df_ek_f[column], label=column)\n",
    "    plt.title(\"Electric Kettle,Fridge\", fontsize=16, fontweight='bold')\n",
    "    plt.xlabel(\"Time (s)\")\n",
    "    plt.ylabel(\"Current (A)\")\n",
    "    "
   ]
  },
  {
   "cell_type": "code",
   "execution_count": null,
   "metadata": {},
   "outputs": [],
   "source": [
    "num=0\n",
    "for column in df_ek_cm.drop(['Label','Timer'], axis=1):\n",
    "    num+=1\n",
    "    plt.plot(df_ek_cm['Timer'], df_ek_cm[column], label=column)\n",
    "    plt.title(\"Electric Kettle, Coffee Machine\", fontsize=16, fontweight='bold')\n",
    "    plt.xlabel(\"Time (s)\")\n",
    "    plt.ylabel(\"Current (A)\")\n",
    "    "
   ]
  },
  {
   "cell_type": "code",
   "execution_count": null,
   "metadata": {},
   "outputs": [],
   "source": [
    "num=0\n",
    "for column in df_ek_cm_f.drop(['Label','Timer'], axis=1):\n",
    "    num+=1\n",
    "    plt.plot(df_ek_cm_f['Timer'], df_ek_cm_f[column], label=column)\n",
    "    plt.title(\"Electric Kettle, Coffee machine, Fridge\", fontsize=16, fontweight='bold')\n",
    "    plt.xlabel(\"Time (s)\")\n",
    "    plt.ylabel(\"Current (A)\")\n",
    "    "
   ]
  },
  {
   "cell_type": "code",
   "execution_count": null,
   "metadata": {},
   "outputs": [],
   "source": [
    "num=0\n",
    "for column in df_cm.drop(['Label','Timer'], axis=1):\n",
    "    num+=1\n",
    "    plt.plot(df_cm['Timer'], df_cm[column], label=column)\n",
    "    plt.title(\"Coffee machine\", fontsize=16, fontweight='bold')\n",
    "    plt.xlabel(\"Time (s)\")\n",
    "    plt.ylabel(\"Current (A)\")\n",
    "    "
   ]
  },
  {
   "cell_type": "code",
   "execution_count": null,
   "metadata": {},
   "outputs": [],
   "source": [
    "num=0\n",
    "for column in df_f.drop(['Label','Timer'], axis=1):\n",
    "    num+=1\n",
    "    plt.plot(df_f['Timer'], df_f[column], label=column)\n",
    "    plt.title(\"Fridge\", fontsize=16, fontweight='bold')\n",
    "    plt.xlabel(\"Time (s)\")\n",
    "    plt.ylabel(\"Current (A)\")\n",
    "    "
   ]
  },
  {
   "cell_type": "code",
   "execution_count": null,
   "metadata": {},
   "outputs": [],
   "source": [
    "num=0\n",
    "for column in df_cm_f.drop(['Label','Timer'], axis=1):\n",
    "    num+=1\n",
    "    plt.plot(df_cm_f['Timer'], df_cm_f[column], label=column)\n",
    "    plt.title(\"Electric Kettle\", fontsize=16, fontweight='bold')\n",
    "    plt.xlabel(\"Time (s)\")\n",
    "    plt.ylabel(\"Current (A)\")\n",
    "    "
   ]
  },
  {
   "cell_type": "code",
   "execution_count": null,
   "metadata": {},
   "outputs": [],
   "source": [
    "num=0\n",
    "for column in df_none.drop(['Label','Timer'], axis=1):\n",
    "    num+=1\n",
    "    plt.plot(df_none['Timer'], df_none[column], label=column)\n",
    "    plt.title(\"Electric Kettle\", fontsize=16, fontweight='bold')\n",
    "    plt.xlabel(\"Time (s)\")\n",
    "    plt.ylabel(\"Current (A)\")\n",
    "    "
   ]
  },
  {
   "cell_type": "markdown",
   "metadata": {},
   "source": [
    "# Data Preprocessing: Formatting"
   ]
  },
  {
   "cell_type": "code",
   "execution_count": null,
   "metadata": {},
   "outputs": [],
   "source": [
    "df_none.head()"
   ]
  },
  {
   "cell_type": "markdown",
   "metadata": {},
   "source": [
    "# Check data format"
   ]
  },
  {
   "cell_type": "code",
   "execution_count": null,
   "metadata": {
    "scrolled": true
   },
   "outputs": [],
   "source": [
    "print(df_ek.dtypes, df_ek_f.dtypes, df_ek_cm.dtypes, df_ek_cm_f.dtypes,df_none.dtypes,df_cm.dtypes, df_cm_f.dtypes,df_f.dtypes)"
   ]
  },
  {
   "cell_type": "markdown",
   "metadata": {},
   "source": [
    "# Data Preprocessing: Feature extraction"
   ]
  },
  {
   "cell_type": "code",
   "execution_count": null,
   "metadata": {},
   "outputs": [],
   "source": [
    "#extract features from the data...average, max, min, mode,stdv, median\n",
    "#CM - Coffee Machine\n",
    "#EK - Electric Kettle\n",
    "#F - Fridge\n",
    "#CM_EK - Coffee Machine and Electric Kettle\n",
    "#CM_F - Coffee Machine and Fridge\n",
    "#CM_EK_F - Coffee Machine, Electric Kettle and Fridge\n",
    "\n",
    "df_f['Average_Current'] = df_f.iloc[0:51,1:16].mean(1)\n",
    "df_f['Max_Current'] = df_f.iloc[0:51,1:16].max(1)\n",
    "df_f['Min_Current'] = df_f.iloc[0:51,1:16].min(1)\n",
    "df_f['Median_Current'] = df_f.iloc[0:51,1:16].median(1)\n",
    "df_f['StDeviation_Current'] = df_f.iloc[0:51,1:16].std(1)\n",
    "df_f.to_csv('f_features.csv',index=False)\n",
    "\n",
    "df_cm['Average_Current'] = df_cm.iloc[0:51,1:16].mean(1)\n",
    "df_cm['Max_Current'] = df_cm.iloc[0:51,1:16].max(1)\n",
    "df_cm['Min_Current'] = df_cm.iloc[0:51,1:16].min(1)\n",
    "df_cm['Median_Current'] = df_cm.iloc[0:51,1:16].median(1)\n",
    "df_cm['StDeviation_Current'] = df_cm.iloc[0:51,1:16].std(1)\n",
    "df_cm.to_csv('cm_features.csv',index=False)\n",
    "\n",
    "df_ek['Average_Current'] = df_ek.iloc[0:51,1:16].mean(1)\n",
    "df_ek['Max_Current'] = df_ek.iloc[0:51,1:16].max(1)\n",
    "df_ek['Min_Current'] = df_ek.iloc[0:51,1:16].min(1)\n",
    "df_ek['Median_Current'] = df_ek.iloc[0:51,1:16].median(1)\n",
    "df_ek['StDeviation_Current'] = df_ek.iloc[0:51,1:16].std(1)\n",
    "df_ek.to_csv('ek_features.csv',index=False)\n",
    "\n",
    "df_ek_f['Average_Current'] = df_ek_f.iloc[0:51,1:16].mean(1)\n",
    "df_ek_f['Max_Current'] = df_ek_f.iloc[0:51,1:16].max(1)\n",
    "df_ek_f['Min_Current'] = df_ek_f.iloc[0:51,1:16].min(1)\n",
    "df_ek_f['Median_Current'] = df_ek_f.iloc[0:51,1:16].median(1)\n",
    "df_ek_f['StDeviation_Current'] = df_ek_f.iloc[0:51,1:16].std(1)\n",
    "df_ek_f.to_csv('ek_f_features.csv',index=False)\n",
    "\n",
    "df_ek_cm['Average_Current'] = df_ek_cm.iloc[0:51,1:16].mean(1)\n",
    "df_ek_cm['Max_Current'] = df_ek_cm.iloc[0:51,1:16].max(1)\n",
    "df_ek_cm['Min_Current'] = df_ek_cm.iloc[0:51,1:16].min(1)\n",
    "df_ek_cm['Median_Current'] = df_ek_cm.iloc[0:51,1:16].median(1)\n",
    "df_ek_cm['StDeviation_Current'] = df_ek_cm.iloc[0:51,1:16].std(1)\n",
    "df_ek_cm.to_csv('ek_cm_features.csv',index=False)\n",
    "\n",
    "df_cm_f['Average_Current'] = df_cm_f.iloc[0:51,1:16].mean(1)\n",
    "df_cm_f['Max_Current'] = df_cm_f.iloc[0:51,1:16].max(1)\n",
    "df_cm_f['Min_Current'] = df_cm_f.iloc[0:51,1:16].min(1)\n",
    "df_cm_f['Median_Current'] = df_cm_f.iloc[0:51,1:16].median(1)\n",
    "df_cm_f['StDeviation_Current'] = df_cm_f.iloc[0:51,1:16].std(1)\n",
    "df_cm_f.to_csv('cm_f_features.csv',index=False)\n",
    "\n",
    "df_ek_cm_f['Average_Current'] = df_ek_cm_f.iloc[0:51,1:16].mean(1)\n",
    "df_ek_cm_f['Max_Current'] = df_ek_cm_f.iloc[0:51,1:16].max(1)\n",
    "df_ek_cm_f['Min_Current'] = df_ek_cm_f.iloc[0:51,1:16].min(1)\n",
    "df_ek_cm_f['Median_Current'] = df_ek_cm_f.iloc[0:51,1:16].median(1)\n",
    "df_ek_cm_f['StDeviation_Current'] = df_ek_cm_f.iloc[0:51,1:16].std(1)\n",
    "df_ek_cm_f.to_csv('ek_cm_f_features.csv',index=False)\n",
    "\n",
    "\n",
    "df_none['Average_Current'] = df_none.iloc[0:51,1:16].mean(1)\n",
    "df_none['Max_Current'] = df_none.iloc[0:51,1:16].max(1)\n",
    "df_none['Min_Current'] = df_none.iloc[0:51,1:16].min(1)\n",
    "df_none['Median_Current'] = df_none.iloc[0:51,1:16].median(1)\n",
    "df_none['StDeviation_Current'] = df_none.iloc[0:51,1:16].std(1)\n",
    "df_none.to_csv('None_features.csv',index=False)"
   ]
  },
  {
   "cell_type": "code",
   "execution_count": null,
   "metadata": {},
   "outputs": [],
   "source": [
    "df_ek_fet = pd.read_csv('ek_features.csv')\n",
    "df_ek_f_fet = pd.read_csv('ek_f_features.csv')\n",
    "df_ek_cm_fet = pd.read_csv('ek_cm_features.csv')\n",
    "df_ek_cm_f_fet = pd.read_csv('ek_cm_f_features.csv')\n",
    "df_cm_fet = pd.read_csv('cm_features.csv')\n",
    "df_cm_f_fet = pd.read_csv('cm_f_features.csv')\n",
    "df_f_fet = pd.read_csv('f_features.csv')\n",
    "df_none_fet = pd.read_csv('None_features.csv')"
   ]
  },
  {
   "cell_type": "markdown",
   "metadata": {},
   "source": [
    "# Preprocessing"
   ]
  },
  {
   "cell_type": "code",
   "execution_count": null,
   "metadata": {},
   "outputs": [],
   "source": [
    "#read from the new csv and drop unwanted current columns\n",
    "df_ek_fet.drop(df_ek_fet.columns[0:16], axis=1, inplace=True)\n",
    "df_ek_fet.to_csv('ek_features.csv')\n",
    "\n",
    "df_ek_f_fet.drop(df_ek_f_fet.columns[0:16], axis=1, inplace=True)\n",
    "df_ek_f_fet.to_csv('ek_f_features.csv')\n",
    "\n",
    "df_ek_cm_fet.drop(df_ek_cm_fet.columns[0:16], axis=1, inplace=True)\n",
    "df_ek_cm_fet.to_csv('ek_cm_features.csv')\n",
    "\n",
    "df_ek_cm_f_fet.drop(df_ek_cm_f_fet.columns[0:16], axis=1, inplace=True)\n",
    "df_ek_cm_f_fet.to_csv('ek_cm_f_features.csv') \n",
    "\n",
    "df_cm_fet.drop(df_cm_fet.columns[0:16], axis=1, inplace=True)\n",
    "df_cm_fet.to_csv('cm_features.csv',index=False)\n",
    "\n",
    "df_cm_f_fet.drop(df_cm_f_fet.columns[0:16], axis=1, inplace=True)\n",
    "df_cm_f_fet.to_csv('cm_f_features.csv',index=False)\n",
    "\n",
    "df_f_fet.drop(df_f_fet.columns[0:16], axis=1, inplace=True) \n",
    "df_f_fet.to_csv('f_features.csv',index=False)\n",
    "\n",
    "df_none_fet.drop(df_none_fet.columns[0:16], axis=1, inplace=True)\n",
    "df_none_fet.to_csv('None_features.csv')"
   ]
  },
  {
   "cell_type": "code",
   "execution_count": null,
   "metadata": {},
   "outputs": [],
   "source": [
    "df_none_fet.head()"
   ]
  },
  {
   "cell_type": "code",
   "execution_count": null,
   "metadata": {},
   "outputs": [],
   "source": [
    "#rearrange columns\n",
    "\n",
    "neworder = ['Average_Current','Max_Current','Min_Current','Median_Current','StDeviation_Current','Label']\n",
    "\n",
    "df_ek_fet = df_ek_fet.reindex(columns=neworder)\n",
    "df_ek_fet.to_csv('ek_features.csv',index=False)\n",
    "\n",
    "df_ek_f_fet = df_ek_f_fet.reindex(columns=neworder)\n",
    "df_ek_f_fet.to_csv('ek_f_features.csv',index=False)\n",
    "\n",
    "df_ek_cm_fet = df_ek_cm_fet.reindex(columns=neworder)\n",
    "df_ek_cm_fet.to_csv('ek_cm_features.csv',index=False)\n",
    "\n",
    "df_ek_cm_f_fet = df_ek_cm_f_fet.reindex(columns=neworder)\n",
    "df_ek_cm_f_fet.to_csv('ek_cm_f_features.csv',index=False)\n",
    "\n",
    "df_cm_fet = df_cm_fet.reindex(columns=neworder)\n",
    "df_cm_fet.to_csv('cm_features.csv',index=False)\n",
    "\n",
    "df_cm_f_fet = df_cm_f_fet.reindex(columns=neworder)\n",
    "df_cm_f_fet.to_csv('cm_f_features.csv',index=False)\n",
    "\n",
    "df_f_fet = df_f_fet.reindex(columns=neworder)\n",
    "df_f_fet.to_csv('f_features.csv',index=False)\n",
    "\n",
    "df_none_fet = df_none_fet.reindex(columns=neworder)\n",
    "df_none_fet.to_csv('None_features.csv',index=False)"
   ]
  },
  {
   "cell_type": "code",
   "execution_count": null,
   "metadata": {},
   "outputs": [],
   "source": [
    "print(df_ek_fet.head())\n",
    "print(df_ek_f_fet.head())\n",
    "print(df_ek_cm_fet.head())\n",
    "print(df_ek_cm_f_fet.head())\n",
    "print(df_cm_fet.head())\n",
    "print(df_cm_f_fet.head())\n",
    "print(df_f_fet.head())\n",
    "print(df_none_fet.head())"
   ]
  },
  {
   "cell_type": "code",
   "execution_count": null,
   "metadata": {},
   "outputs": [],
   "source": [
    "df_none_fet.dtypes"
   ]
  },
  {
   "cell_type": "code",
   "execution_count": null,
   "metadata": {},
   "outputs": [],
   "source": [
    "import glob\n",
    "import csv\n",
    "\n",
    "output_file = 'all_appliances.csv'\n",
    "header_written = False\n",
    "\n",
    "with open(output_file,'w',newline=\"\") as fout: \n",
    "    wout = csv.writer(fout,delimiter=',')\n",
    "   \n",
    "    interesting_files = [x for x in glob.glob(\"C:\\\\Users\\mercy\\Desktop\\gcu\\Honours\\prototype\\Timeseries M.L\\Features\\*.csv\") if x != output_file]\n",
    "    for filename in interesting_files:\n",
    "        with open(filename) as fin:\n",
    "            cr = csv.reader(fin,delimiter=\",\")\n",
    "            header = next(cr) #skip header\n",
    "            if not header_written:\n",
    "                wout.writerow(header)\n",
    "                header_written = True\n",
    "            wout.writerows(cr)"
   ]
  },
  {
   "cell_type": "markdown",
   "metadata": {},
   "source": [
    "# Exploratory data analysis"
   ]
  },
  {
   "cell_type": "code",
   "execution_count": null,
   "metadata": {},
   "outputs": [],
   "source": [
    "df = pd.read_csv('all_appliances.csv')"
   ]
  },
  {
   "cell_type": "code",
   "execution_count": null,
   "metadata": {},
   "outputs": [],
   "source": [
    "df.head()"
   ]
  },
  {
   "cell_type": "code",
   "execution_count": null,
   "metadata": {},
   "outputs": [],
   "source": [
    "df.tail()"
   ]
  },
  {
   "cell_type": "code",
   "execution_count": null,
   "metadata": {},
   "outputs": [],
   "source": [
    "df.dtypes"
   ]
  },
  {
   "cell_type": "markdown",
   "metadata": {},
   "source": [
    "# Features Graphs"
   ]
  },
  {
   "cell_type": "code",
   "execution_count": null,
   "metadata": {},
   "outputs": [],
   "source": [
    "df_graphs = pd.read_csv('Graphs\\Gall_appliances_graph.csv')"
   ]
  },
  {
   "cell_type": "code",
   "execution_count": null,
   "metadata": {},
   "outputs": [],
   "source": [
    "import seaborn\n",
    "seaborn.boxplot(y='Label', x='Average_Current',data=df_graphs)"
   ]
  },
  {
   "cell_type": "code",
   "execution_count": null,
   "metadata": {},
   "outputs": [],
   "source": [
    "seaborn.boxplot(y='Label', x='Max_Current',data=df_graphs)"
   ]
  },
  {
   "cell_type": "code",
   "execution_count": null,
   "metadata": {},
   "outputs": [],
   "source": [
    "seaborn.boxplot(y='Label', x='Min_Current',data=df_graphs)"
   ]
  },
  {
   "cell_type": "code",
   "execution_count": null,
   "metadata": {},
   "outputs": [],
   "source": [
    "seaborn.boxplot(y='Label', x='Median_Current',data=df_graphs)"
   ]
  },
  {
   "cell_type": "code",
   "execution_count": null,
   "metadata": {
    "scrolled": true
   },
   "outputs": [],
   "source": [
    "seaborn.boxplot(y='Label', x='StDeviation_Current',data=df_graphs)"
   ]
  },
  {
   "cell_type": "markdown",
   "metadata": {},
   "source": [
    "# Dummies"
   ]
  },
  {
   "cell_type": "code",
   "execution_count": null,
   "metadata": {},
   "outputs": [],
   "source": [
    "# Convert to a list of labels\n",
    "dummies_1 = df.apply(lambda x: x[\"Label\"].split(\"*\"), axis=1)"
   ]
  },
  {
   "cell_type": "code",
   "execution_count": null,
   "metadata": {},
   "outputs": [],
   "source": [
    "from sklearn.preprocessing import MultiLabelBinarizer\n",
    "mlb = MultiLabelBinarizer()\n",
    "\n",
    "array_out = mlb.fit_transform(dummies_1)\n",
    "print(array_out.shape)\n",
    "print(mlb.classes_)"
   ]
  },
  {
   "cell_type": "code",
   "execution_count": null,
   "metadata": {},
   "outputs": [],
   "source": [
    "dummy_variable_1 = pd.DataFrame(array_out, columns=mlb.classes_ )\n",
    "print (dummy_variable_1)"
   ]
  },
  {
   "cell_type": "code",
   "execution_count": null,
   "metadata": {},
   "outputs": [],
   "source": [
    "# merge data frame \"df\" and \"dummy_variable_1\" \n",
    "df = pd.concat([df, dummy_variable_1], axis=1)\n",
    "\n",
    "# drop original column \"Label\" from \"df\"\n",
    "df.drop(\"Label\", axis = 1, inplace=True)\n",
    "df.to_csv('all_appliances.csv',index=False)\n",
    "df.head()"
   ]
  },
  {
   "cell_type": "markdown",
   "metadata": {},
   "source": [
    "# model"
   ]
  },
  {
   "cell_type": "code",
   "execution_count": null,
   "metadata": {},
   "outputs": [],
   "source": [
    "import numpy as np\n",
    "from sklearn.svm import LinearSVC\n",
    "from sklearn import preprocessing\n",
    "from sklearn.metrics import accuracy_score\n",
    "from sklearn.model_selection import train_test_split\n",
    "from sklearn.preprocessing import StandardScaler\n"
   ]
  },
  {
   "cell_type": "code",
   "execution_count": null,
   "metadata": {},
   "outputs": [],
   "source": [
    "#Spliting the dataset in independent and dependent variables\n",
    "X = df.iloc[:,:5].values\n",
    "Y = df.iloc[:,6:9].values\n",
    "print(X.shape)\n",
    "print(Y.shape)"
   ]
  },
  {
   "cell_type": "code",
   "execution_count": null,
   "metadata": {},
   "outputs": [],
   "source": [
    "# Splitting the dataset into the Training set and Test set\n",
    "features_train, features_test, labels_train, labels_test = train_test_split (X, Y, test_size=0.40, random_state=0)"
   ]
  },
  {
   "cell_type": "code",
   "execution_count": null,
   "metadata": {},
   "outputs": [],
   "source": [
    "# Feature Scaling to bring the variable in a single scale\n",
    "scaler = StandardScaler()\n",
    "X_train = scaler.fit_transform(features_train)\n",
    "X_test = scaler.transform(features_test)\n"
   ]
  },
  {
   "cell_type": "code",
   "execution_count": null,
   "metadata": {},
   "outputs": [],
   "source": [
    "print(X_test.shape)\n",
    "print(labels_train.shape)\n",
    "print(X_train.shape)\n",
    "print(labels_test.shape)"
   ]
  },
  {
   "cell_type": "code",
   "execution_count": null,
   "metadata": {},
   "outputs": [],
   "source": [
    "from sklearn.svm import SVC\n",
    "from sklearn.multiclass import OneVsRestClassifier\n",
    "\n",
    "\n",
    "#train\n",
    "clf= OneVsRestClassifier(LinearSVC(random_state=0))\n",
    "\n",
    "clf.fit(X_train, labels_train)\n",
    "predicted = clf.predict(X_test)\n",
    "\n",
    "#test\n",
    "pred_y = clf.predict(X_test)\n",
    "print(pred_y)\n",
    "\n",
    "#accuracy\n",
    "acc = accuracy_score(pred_y, labels_test)\n",
    "print(acc)\n"
   ]
  },
  {
   "cell_type": "code",
   "execution_count": null,
   "metadata": {},
   "outputs": [],
   "source": [
    "from sklearn.neighbors import KNeighborsClassifier\n",
    "\n",
    "clf = KNeighborsClassifier(n_neighbors=3)\n",
    "\n",
    "#train\n",
    "clf.fit(X_train, labels_train)\n",
    "\n",
    "\n",
    "#test\n",
    "pred_y = clf.predict(X_test)\n",
    "print(pred_y)\n",
    "\n",
    "#accuracy\n",
    "acc = accuracy_score(pred_y, labels_test)\n",
    "print(acc)\n"
   ]
  }
 ],
 "metadata": {
  "kernelspec": {
   "display_name": "Python 3",
   "language": "python",
   "name": "python3"
  },
  "language_info": {
   "codemirror_mode": {
    "name": "ipython",
    "version": 3
   },
   "file_extension": ".py",
   "mimetype": "text/x-python",
   "name": "python",
   "nbconvert_exporter": "python",
   "pygments_lexer": "ipython3",
   "version": "3.7.4"
  }
 },
 "nbformat": 4,
 "nbformat_minor": 2
}
